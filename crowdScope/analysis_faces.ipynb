{
 "cells": [
  {
   "cell_type": "code",
   "execution_count": null,
   "metadata": {},
   "outputs": [],
   "source": [
    "import numpy as np\n",
    "import cv2\n",
    "import matplotlib.pyplot as plt\n",
    "import os"
   ]
  },
  {
   "attachments": {},
   "cell_type": "markdown",
   "metadata": {},
   "source": [
    "# dataset"
   ]
  },
  {
   "cell_type": "code",
   "execution_count": null,
   "metadata": {},
   "outputs": [],
   "source": [
    "# path_dataset = './assets/generate_faces'\n",
    "path_dataset = './assets/preprocess'"
   ]
  },
  {
   "cell_type": "code",
   "execution_count": null,
   "metadata": {},
   "outputs": [],
   "source": [
    "!ls $path_dataset"
   ]
  },
  {
   "cell_type": "code",
   "execution_count": null,
   "metadata": {},
   "outputs": [],
   "source": [
    "from glob import glob"
   ]
  },
  {
   "cell_type": "code",
   "execution_count": null,
   "metadata": {},
   "outputs": [],
   "source": [
    "images = glob(path_dataset+'/*.jpg')\n",
    "n = len(images)\n",
    "print(n)"
   ]
  },
  {
   "attachments": {},
   "cell_type": "markdown",
   "metadata": {},
   "source": [
    "# analysis data images"
   ]
  },
  {
   "cell_type": "code",
   "execution_count": null,
   "metadata": {},
   "outputs": [],
   "source": [
    "img_size = []\n",
    "for i in range(n):\n",
    "    orig_img_path = images[i]\n",
    "    img = cv2.imread(orig_img_path)\n",
    "    img_size.append(img.shape)\n",
    "img_size = np.array(img_size)"
   ]
  },
  {
   "cell_type": "code",
   "execution_count": null,
   "metadata": {},
   "outputs": [],
   "source": [
    "img.shape[:-1]"
   ]
  },
  {
   "cell_type": "code",
   "execution_count": null,
   "metadata": {},
   "outputs": [],
   "source": [
    "# Compute the histogram values\n",
    "hist, xedges, yedges = np.histogram2d(img_size[:,0], img_size[:,1], bins=10)\n",
    "\n",
    "# Create the heatmap\n",
    "plt.imshow(hist.T, cmap='viridis', origin='lower', extent=[xedges[0], xedges[-1], yedges[0], yedges[-1]])\n",
    "\n",
    "# Add number labels to each cell\n",
    "for i in range(hist.shape[0]):\n",
    "    for j in range(hist.shape[1]):\n",
    "        plt.text(xedges[i]+(xedges[1]-xedges[0])/2, yedges[j]+(yedges[1]-yedges[0])/2, int(hist[i,j]),\n",
    "                 ha='center', va='center', color='white', fontsize=10)\n",
    "\n",
    "# Add colorbar and axis labels\n",
    "plt.colorbar()\n",
    "plt.xlabel('Image width')\n",
    "plt.ylabel('Image height')\n",
    "plt.show()"
   ]
  },
  {
   "cell_type": "code",
   "execution_count": null,
   "metadata": {},
   "outputs": [],
   "source": [
    "import pandas as pd"
   ]
  },
  {
   "cell_type": "code",
   "execution_count": null,
   "metadata": {},
   "outputs": [],
   "source": [
    "# df = pd.DataFrame(images, columns=['image_path'])\n",
    "# df.to_csv(path_dataset + '/info.csv', index=False)"
   ]
  },
  {
   "cell_type": "code",
   "execution_count": null,
   "metadata": {},
   "outputs": [],
   "source": [
    "# df = pd.read_csv(path_dataset+'/info_age_gender - info.csv')\n",
    "# df.head()"
   ]
  },
  {
   "cell_type": "code",
   "execution_count": null,
   "metadata": {},
   "outputs": [],
   "source": [
    "# print(df.shape)"
   ]
  },
  {
   "cell_type": "code",
   "execution_count": null,
   "metadata": {},
   "outputs": [],
   "source": [
    "# df.info()"
   ]
  },
  {
   "cell_type": "code",
   "execution_count": null,
   "metadata": {},
   "outputs": [],
   "source": [
    "# print(df.isna().sum())\n"
   ]
  },
  {
   "cell_type": "code",
   "execution_count": null,
   "metadata": {},
   "outputs": [],
   "source": [
    "# df['age'].value_counts()"
   ]
  },
  {
   "cell_type": "code",
   "execution_count": null,
   "metadata": {},
   "outputs": [],
   "source": [
    "# df['gender'].value_counts()"
   ]
  },
  {
   "cell_type": "code",
   "execution_count": null,
   "metadata": {},
   "outputs": [],
   "source": [
    "# import pathlib\n",
    "# pathlib.Path(\"./assets/datasets/gender/M\").mkdir(parents=True, exist_ok=True)\n",
    "# pathlib.Path(\"./assets/datasets/gender/F\").mkdir(parents=True, exist_ok=True)\n",
    "# pathlib.Path(\"./assets/datasets/age/(0-20)\").mkdir(parents=True, exist_ok=True)\n",
    "# pathlib.Path(\"./assets/datasets/age/(20-40)\").mkdir(parents=True, exist_ok=True)\n",
    "# pathlib.Path(\"./assets/datasets/age/(40-100)\").mkdir(parents=True, exist_ok=True)\n",
    "# pathlib.Path(\"./assets/datasets/null\").mkdir(parents=True, exist_ok=True)"
   ]
  },
  {
   "cell_type": "code",
   "execution_count": null,
   "metadata": {},
   "outputs": [],
   "source": [
    "# null_df = df[df.isnull().any(axis=1)]\n",
    "# not_null_df = df[~df.isnull().any(axis=1)]"
   ]
  },
  {
   "cell_type": "code",
   "execution_count": null,
   "metadata": {},
   "outputs": [],
   "source": [
    "# null_df.info()"
   ]
  },
  {
   "cell_type": "code",
   "execution_count": null,
   "metadata": {},
   "outputs": [],
   "source": [
    "# not_null_df.info()"
   ]
  },
  {
   "cell_type": "code",
   "execution_count": null,
   "metadata": {},
   "outputs": [],
   "source": [
    "# for (image_path, gender, age) in null_df.values:\n",
    "#     img_name = image_path.split('/')[-1]\n",
    "#     img = cv2.imread(image_path)\n",
    "#     null_path = f'./assets/datasets/null/{img_name}'\n",
    "#     cv2.imwrite(null_path, img)"
   ]
  },
  {
   "cell_type": "code",
   "execution_count": null,
   "metadata": {},
   "outputs": [],
   "source": [
    "# for (image_path, gender, age) in df.values:\n",
    "#     img_name = image_path.split('/')[-1]\n",
    "\n",
    "#     img = cv2.imread(image_path)\n",
    "#     gender_path = f'./assets/datasets/gender/{gender}/{img_name}'\n",
    "#     age_path = f'./assets/datasets/age/{age}/{img_name}'\n",
    "#     cv2.imwrite(gender_path, img)\n",
    "#     cv2.imwrite(age_path, img)"
   ]
  },
  {
   "cell_type": "code",
   "execution_count": null,
   "metadata": {},
   "outputs": [],
   "source": []
  },
  {
   "cell_type": "code",
   "execution_count": null,
   "metadata": {},
   "outputs": [],
   "source": [
    "path_M = './assets/datasets/gender/M'\n",
    "path_F = './assets/datasets/gender/F'\n",
    "\n",
    "path_age1 = './assets/datasets/age/(0-20)'\n",
    "path_age2 = './assets/datasets/age/(20-40)'\n",
    "path_age3 = './assets/datasets/age/(40-100)'\n"
   ]
  },
  {
   "cell_type": "code",
   "execution_count": null,
   "metadata": {},
   "outputs": [],
   "source": [
    "# !ls $path_M"
   ]
  },
  {
   "cell_type": "code",
   "execution_count": null,
   "metadata": {},
   "outputs": [],
   "source": [
    "print(path_M)\n",
    "M_images = glob(path_M+'/*.jpg')\n",
    "print(len(M_images))\n",
    "print('=======================')\n",
    "print(path_F)\n",
    "F_images = glob(path_F+'/*.jpg')\n",
    "print(len(F_images))\n",
    "print('=======================')\n",
    "print(path_age1)\n",
    "age1_images = glob(path_age1+'/*.jpg')\n",
    "print(len(age1_images))\n",
    "print('=======================')\n",
    "print(path_age2)\n",
    "age2_images = glob(path_age2+'/*.jpg')\n",
    "print(len(age2_images))\n",
    "print('=======================')\n",
    "print(path_age3)\n",
    "age3_images = glob(path_age3+'/*.jpg')\n",
    "print(len(age3_images))\n",
    "print('=======================')\n"
   ]
  },
  {
   "cell_type": "code",
   "execution_count": null,
   "metadata": {},
   "outputs": [],
   "source": [
    "data_bonus = './assets/data_bonus/data_add1'\n",
    "!ls $data_bonus"
   ]
  },
  {
   "cell_type": "code",
   "execution_count": null,
   "metadata": {},
   "outputs": [],
   "source": [
    "path_train_M = data_bonus + '/Training/male'\n",
    "path_train_F = data_bonus + '/Training/female'\n",
    "\n",
    "path_val_M = data_bonus + '/Validation/male'\n",
    "path_val_F = data_bonus + '/Validation/female'\n"
   ]
  },
  {
   "cell_type": "code",
   "execution_count": null,
   "metadata": {},
   "outputs": [],
   "source": [
    "print(path_train_M)\n",
    "M_train_images = glob(path_train_M+'/*.jpg')\n",
    "print(len(M_train_images))\n",
    "print('=======================')\n",
    "print(path_train_F)\n",
    "F_train_images = glob(path_train_F+'/*.jpg')\n",
    "print(len(F_train_images))\n",
    "print('=======================')\n",
    "print(path_val_M)\n",
    "M_val_images = glob(path_val_M+'/*.jpg')\n",
    "print(len(M_val_images))\n",
    "print('=======================')\n",
    "print(path_val_F)\n",
    "F_val_images = glob(path_val_F+'/*.jpg')\n",
    "print(len(F_val_images))\n",
    "print('=======================')\n"
   ]
  },
  {
   "cell_type": "code",
   "execution_count": null,
   "metadata": {},
   "outputs": [],
   "source": [
    "N_images = 2500\n",
    "M_rem = N_images - len(M_images)\n",
    "M_rem_images = np.random.choice(M_train_images, M_rem, replace=False)\n",
    "print(M_rem)"
   ]
  },
  {
   "cell_type": "code",
   "execution_count": null,
   "metadata": {},
   "outputs": [],
   "source": [
    "# M_rem_images"
   ]
  },
  {
   "cell_type": "code",
   "execution_count": null,
   "metadata": {},
   "outputs": [],
   "source": [
    "def write_bonus(rem_images, size = (128, 128), root = './assets/datasets/gender/M_bonus/'):\n",
    "    for im_path in rem_images:\n",
    "        im = cv2.imread(im_path)\n",
    "        im_res = cv2.resize(im, size)\n",
    "        im_name = im_path.split('/')[-1]\n",
    "        p1 = root +im_name\n",
    "        cv2.imwrite(p1, im_res)"
   ]
  },
  {
   "cell_type": "code",
   "execution_count": null,
   "metadata": {},
   "outputs": [],
   "source": [
    "write_bonus(M_rem_images, root = './assets/datasets/gender/M_bonus/')"
   ]
  },
  {
   "cell_type": "code",
   "execution_count": null,
   "metadata": {},
   "outputs": [],
   "source": [
    "print(len(glob( './assets/datasets/gender/M_bonus/*.jpg')))"
   ]
  },
  {
   "cell_type": "code",
   "execution_count": null,
   "metadata": {},
   "outputs": [],
   "source": [
    "N_images = 2500\n",
    "F_rem = N_images - len(F_images)\n",
    "F_rem_images = np.random.choice(F_train_images, F_rem, replace=False)\n",
    "print(F_rem)\n",
    "\n",
    "write_bonus(F_rem_images, root = './assets/datasets/gender/F_bonus/')"
   ]
  },
  {
   "cell_type": "code",
   "execution_count": null,
   "metadata": {},
   "outputs": [],
   "source": [
    "print(len(glob( './assets/datasets/gender/F_bonus/*.jpg')))"
   ]
  },
  {
   "cell_type": "code",
   "execution_count": null,
   "metadata": {},
   "outputs": [],
   "source": [
    "data_add2 = './assets/data_bonus/data_add2/'"
   ]
  },
  {
   "cell_type": "code",
   "execution_count": null,
   "metadata": {},
   "outputs": [],
   "source": [
    "df1 = pd.read_csv(data_add2 + '/fold_0_data.txt', sep='\\t')\n",
    "df1.head()"
   ]
  },
  {
   "cell_type": "code",
   "execution_count": null,
   "metadata": {},
   "outputs": [],
   "source": [
    "df2 = pd.read_csv(data_add2 + '/fold_1_data.txt', sep='\\t')\n",
    "df2.head()"
   ]
  },
  {
   "cell_type": "code",
   "execution_count": null,
   "metadata": {},
   "outputs": [],
   "source": [
    "df3 = pd.read_csv(data_add2 + '/fold_2_data.txt', sep='\\t')\n",
    "df3.head()"
   ]
  },
  {
   "cell_type": "code",
   "execution_count": null,
   "metadata": {},
   "outputs": [],
   "source": [
    "df4 = pd.read_csv(data_add2 + '/fold_3_data.txt', sep='\\t')\n",
    "df4.head()"
   ]
  },
  {
   "cell_type": "code",
   "execution_count": null,
   "metadata": {},
   "outputs": [],
   "source": [
    "df5 = pd.read_csv(data_add2 + '/fold_4_data.txt', sep='\\t')\n",
    "df5.head()"
   ]
  },
  {
   "cell_type": "code",
   "execution_count": null,
   "metadata": {},
   "outputs": [],
   "source": []
  },
  {
   "cell_type": "code",
   "execution_count": null,
   "metadata": {},
   "outputs": [],
   "source": [
    "df = df1.copy()\n",
    "\n",
    "df = df.append(df2,ignore_index=True)\n",
    "df = df.append(df3,ignore_index=True)\n",
    "df = df.append(df4,ignore_index=True)\n",
    "df = df.append(df5,ignore_index=True)\n"
   ]
  },
  {
   "cell_type": "code",
   "execution_count": null,
   "metadata": {},
   "outputs": [],
   "source": [
    "print(df.shape)"
   ]
  },
  {
   "cell_type": "code",
   "execution_count": null,
   "metadata": {},
   "outputs": [],
   "source": [
    "df.head()"
   ]
  },
  {
   "cell_type": "code",
   "execution_count": null,
   "metadata": {},
   "outputs": [],
   "source": [
    "df.info()"
   ]
  },
  {
   "cell_type": "code",
   "execution_count": null,
   "metadata": {},
   "outputs": [],
   "source": [
    "df_process = df[['user_id', 'face_id','original_image', 'age']]\n",
    "df_process.head()"
   ]
  },
  {
   "cell_type": "code",
   "execution_count": null,
   "metadata": {},
   "outputs": [],
   "source": [
    "df_process.info()"
   ]
  },
  {
   "cell_type": "code",
   "execution_count": null,
   "metadata": {},
   "outputs": [],
   "source": [
    "df_process['age'].value_counts()"
   ]
  },
  {
   "cell_type": "code",
   "execution_count": null,
   "metadata": {},
   "outputs": [],
   "source": [
    "df_process['age'].isna().sum()"
   ]
  },
  {
   "cell_type": "code",
   "execution_count": null,
   "metadata": {},
   "outputs": [],
   "source": [
    "def process_age(age):\n",
    "    if age ==  \"None\":\n",
    "        return\n",
    "    elif isinstance(age, int):\n",
    "        return age\n",
    "    elif isinstance(age, str):\n",
    "        s = age.strip('()').split(',')\n",
    "        if len(s) == 1:\n",
    "            a = int(s[0].strip())\n",
    "        else:\n",
    "            a1, a2 = s \n",
    "            a1 = int(a1.strip())\n",
    "            a2 = int(a2.strip())\n",
    "            a = (a1+a2)//2\n",
    "        return a"
   ]
  },
  {
   "cell_type": "code",
   "execution_count": null,
   "metadata": {},
   "outputs": [],
   "source": [
    "# !sgpt --code \"applt function on each cell for column in df\""
   ]
  },
  {
   "cell_type": "code",
   "execution_count": null,
   "metadata": {},
   "outputs": [],
   "source": [
    "df_clean = df_process.drop('age', axis=1)\n",
    "df_clean"
   ]
  },
  {
   "cell_type": "code",
   "execution_count": null,
   "metadata": {},
   "outputs": [],
   "source": [
    "df_clean['age'] =  df_process['age'].apply(process_age)\n",
    "df_clean['age'].head()"
   ]
  },
  {
   "cell_type": "code",
   "execution_count": null,
   "metadata": {},
   "outputs": [],
   "source": [
    "df_clean.dropna(inplace=True)"
   ]
  },
  {
   "cell_type": "code",
   "execution_count": null,
   "metadata": {},
   "outputs": [],
   "source": [
    "df_clean.info()"
   ]
  },
  {
   "cell_type": "code",
   "execution_count": null,
   "metadata": {},
   "outputs": [],
   "source": [
    "def categories(age):\n",
    "    if 0 <= age < 20:\n",
    "        return '(0-20)'\n",
    "    elif 20 <= age < 40:\n",
    "        return '(20-40)'\n",
    "    elif 40 <= age < 100:\n",
    "        return '(40-100)'"
   ]
  },
  {
   "cell_type": "code",
   "execution_count": null,
   "metadata": {},
   "outputs": [],
   "source": [
    "df_clean['cls_age'] = df_clean['age'].apply(categories)\n",
    "df_clean.head()"
   ]
  },
  {
   "cell_type": "code",
   "execution_count": null,
   "metadata": {},
   "outputs": [],
   "source": [
    "df_clean['cls_age'].value_counts()"
   ]
  },
  {
   "cell_type": "code",
   "execution_count": null,
   "metadata": {},
   "outputs": [],
   "source": [
    "root = 'assets/data_bonus/data_add2/faces'\n",
    "idx = np.random.choice(df_clean.shape[0])\n",
    "img_name = f\"coarse_tilt_aligned_face.{df_clean['face_id'][idx]}.{df_clean['original_image'][idx]}\"\n",
    "im_path = os.path.join(root, df_clean['user_id'][idx], img_name)\n",
    "\n",
    "# print(idx)\n",
    "# print(df_clean['face_id'][idx])\n",
    "# print(df_clean['original_image'][idx])\n",
    "# print(df_clean['user_id'][idx])\n",
    "# print(img_name)\n",
    "# print(im_path)"
   ]
  },
  {
   "cell_type": "code",
   "execution_count": null,
   "metadata": {},
   "outputs": [],
   "source": [
    "!ls $im_path"
   ]
  },
  {
   "cell_type": "code",
   "execution_count": null,
   "metadata": {},
   "outputs": [],
   "source": [
    "def get_path_img(user_id, face_id, original_image):\n",
    "    root = 'assets/data_bonus/data_add2/faces'\n",
    "    img_name = f\"coarse_tilt_aligned_face.{face_id}.{original_image}\"\n",
    "    im_path = os.path.join(root, user_id, img_name)\n",
    "    return im_path"
   ]
  },
  {
   "cell_type": "code",
   "execution_count": null,
   "metadata": {},
   "outputs": [],
   "source": [
    "def write_bonus(new_images_lis_path, N_images = 2500, size = (128, 128), N_orig_images = len(age1_images) , age = '(0-20)'):\n",
    "    new_root = f'./assets/datasets/age/{age}_bonus/'\n",
    "    N_rem = N_images - N_orig_images\n",
    "    print(N_rem)\n",
    "    rem_images = np.random.choice(new_images_lis_path, N_rem, replace=False)\n",
    "    for im_path in rem_images:\n",
    "        im = cv2.imread(im_path)\n",
    "        im_res = cv2.resize(im, size)\n",
    "        im_name = im_path.split('/')[-1]\n",
    "        p1 = new_root +im_name\n",
    "        cv2.imwrite(p1, im_res)"
   ]
  },
  {
   "cell_type": "code",
   "execution_count": null,
   "metadata": {},
   "outputs": [],
   "source": [
    "df_age1 = df_clean[df_clean['cls_age'] == '(0-20)']\n",
    "df_age2 = df_clean[df_clean['cls_age'] == '(20-40)']\n",
    "df_age3 = df_clean[df_clean['cls_age'] == '(40-100)']"
   ]
  },
  {
   "cell_type": "code",
   "execution_count": null,
   "metadata": {},
   "outputs": [],
   "source": [
    "df_age3.head()"
   ]
  },
  {
   "cell_type": "code",
   "execution_count": null,
   "metadata": {},
   "outputs": [],
   "source": [
    "def get_new_images_lis_path(df_age):\n",
    "    new_images_lis_path_ag = []\n",
    "    for user_id, face_id, original_image, age,cls_age in df_age.values:\n",
    "        img_path =  get_path_img(user_id, face_id, original_image)\n",
    "        new_images_lis_path_ag.append(img_path)\n",
    "    return new_images_lis_path_ag"
   ]
  },
  {
   "cell_type": "code",
   "execution_count": null,
   "metadata": {},
   "outputs": [],
   "source": [
    "new_images_lis_path_ag1 = get_new_images_lis_path(df_age1)\n",
    "new_images_lis_path_ag2 = get_new_images_lis_path(df_age2)\n",
    "new_images_lis_path_ag3 = get_new_images_lis_path(df_age3)"
   ]
  },
  {
   "cell_type": "code",
   "execution_count": null,
   "metadata": {},
   "outputs": [],
   "source": [
    "write_bonus(new_images_lis_path_ag1, N_orig_images = len(age1_images) , age = '(0-20)')\n",
    "write_bonus(new_images_lis_path_ag1, N_orig_images = len(age2_images) , age = '(20-40)')\n",
    "write_bonus(new_images_lis_path_ag1, N_orig_images = len(age3_images) , age = '(40-100)')"
   ]
  },
  {
   "cell_type": "code",
   "execution_count": null,
   "metadata": {},
   "outputs": [],
   "source": [
    "print(len(glob( './assets/datasets/age/(0-20)_bonus/*.jpg')))\n",
    "print(len(glob( './assets/datasets/age/(20-40)_bonus/*.jpg')))\n",
    "print(len(glob( './assets/datasets/age/(40-100)_bonus/*.jpg')))"
   ]
  }
 ],
 "metadata": {
  "kernelspec": {
   "display_name": ".venv",
   "language": "python",
   "name": "python3"
  },
  "language_info": {
   "codemirror_mode": {
    "name": "ipython",
    "version": 3
   },
   "file_extension": ".py",
   "mimetype": "text/x-python",
   "name": "python",
   "nbconvert_exporter": "python",
   "pygments_lexer": "ipython3",
   "version": "3.10.9"
  },
  "orig_nbformat": 4
 },
 "nbformat": 4,
 "nbformat_minor": 2
}
